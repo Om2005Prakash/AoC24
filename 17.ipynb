{
 "cells": [
  {
   "cell_type": "code",
   "execution_count": 6,
   "metadata": {},
   "outputs": [],
   "source": [
    "with open (\"in17.txt\", \"r\") as f:\n",
    "    data = f.readlines()\n",
    "    registers = [int(data[0].split()[-1]),\n",
    "                 int(data[1].split()[-1]),\n",
    "                 int(data[2].split()[-1])]\n",
    "    program = [int(i) for i in (data[4][9:-1]).split(',')]\n",
    "    out = []\n",
    "\n",
    "def resolve(combo):\n",
    "    global isp\n",
    "    global registers\n",
    "    global out\n",
    "\n",
    "    if 0<=combo<=3 :\n",
    "        return combo\n",
    "    elif combo >= 4 and combo!=7:\n",
    "        return registers[combo - 4]\n",
    "    else:\n",
    "        return combo\n",
    "\n",
    "def operate_word(word):\n",
    "    global isp\n",
    "    global registers\n",
    "    global out\n",
    "\n",
    "    opcode = word[0]\n",
    "    combo = word[1]\n",
    "\n",
    "    if opcode == 0:\n",
    "        registers[0] = int(registers[0] / (2**resolve(combo)))\n",
    "        isp += 2\n",
    "    elif opcode == 1:\n",
    "        registers[1] = registers[1] ^ combo\n",
    "        isp += 2\n",
    "    elif opcode == 2:\n",
    "        registers[1] = resolve(combo) % 8\n",
    "        isp += 2\n",
    "    elif opcode == 3:\n",
    "        if registers[0]:\n",
    "            isp = combo\n",
    "        else:\n",
    "            isp += 2\n",
    "    elif opcode == 4:\n",
    "        registers[1] = registers[1] ^ registers[2]\n",
    "        isp += 2\n",
    "    elif opcode == 5:\n",
    "        out.append(resolve(combo)%8)\n",
    "        isp += 2\n",
    "    elif opcode == 6:\n",
    "        registers[1] = int(registers[0] / (2**resolve(combo)))\n",
    "        isp += 2\n",
    "    elif opcode == 7:\n",
    "        registers[2] = int(registers[0] / (2**resolve(combo)))\n",
    "        isp += 2 "
   ]
  },
  {
   "cell_type": "code",
   "execution_count": 8,
   "metadata": {},
   "outputs": [
    {
     "name": "stdout",
     "output_type": "stream",
     "text": [
      "7,0,3,1,2,6,3,7,1\n"
     ]
    }
   ],
   "source": [
    "isp = 0\n",
    "out = []\n",
    "while isp < len(program):\n",
    "    operate_word(program[isp:isp+2])\n",
    "print(','.join(str(i) for i in out))"
   ]
  },
  {
   "cell_type": "code",
   "execution_count": 10,
   "metadata": {},
   "outputs": [
    {
     "name": "stdout",
     "output_type": "stream",
     "text": [
      "Part 2 109020013201563\n"
     ]
    }
   ],
   "source": [
    "def check(A):\n",
    "    global isp\n",
    "    global out\n",
    "    global registers\n",
    "    \n",
    "    isp = 0\n",
    "    out = []\n",
    "    registers = [A, 0, 0]\n",
    "    while isp < len(program):\n",
    "        operate_word(program[isp:isp+2])\n",
    "    return out\n",
    "\n",
    "def backtree(i, sol): #BackTracking Approach\n",
    "    if i < 0:\n",
    "        return sol\n",
    "    for j in range(8):\n",
    "        sol[i] = j\n",
    "        num = sum(sol[k]*(8**k) for k in range(len(sol)))\n",
    "        res = check(num)\n",
    "        if len(res) == len(program) and check(num)[i] == program[i]:\n",
    "            if backtree(i-1, sol):\n",
    "                return sol\n",
    "    sol[i] = 0\n",
    "    return False\n",
    "\n",
    "sol = backtree(15, [0 for _ in range(len(program))]) #This will give us the octal representation\n",
    "print(\"Part 2\", sum(sol[k]*(8**k) for k in range(len(sol))))\n"
   ]
  }
 ],
 "metadata": {
  "kernelspec": {
   "display_name": "om",
   "language": "python",
   "name": "python3"
  },
  "language_info": {
   "codemirror_mode": {
    "name": "ipython",
    "version": 3
   },
   "file_extension": ".py",
   "mimetype": "text/x-python",
   "name": "python",
   "nbconvert_exporter": "python",
   "pygments_lexer": "ipython3",
   "version": "3.9.19"
  }
 },
 "nbformat": 4,
 "nbformat_minor": 2
}
