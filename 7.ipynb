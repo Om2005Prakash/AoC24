{
 "cells": [
  {
   "cell_type": "code",
   "execution_count": 1,
   "metadata": {},
   "outputs": [
    {
     "name": "stdout",
     "output_type": "stream",
     "text": [
      "7710205485870\n"
     ]
    }
   ],
   "source": [
    "import re\n",
    "from itertools import product\n",
    "\n",
    "with open(\"in7.txt\", \"r\") as f:\n",
    "    res = 0\n",
    "    data = f.readlines()\n",
    "    data = [re.findall(r\"\\d+\", i) for i in data]\n",
    "    data = [[int(j) for j in i] for i in data]\n",
    "    symbols = ['*', '+']\n",
    "    worked = set()\n",
    "    cached_perm = dict()\n",
    "\n",
    "    for test in data:\n",
    "        places = len(test) - 2\n",
    "        if places in cached_perm:\n",
    "            permutations = cached_perm[places]\n",
    "        else:\n",
    "            permutations = list(product(symbols, repeat=places))\n",
    "            cached_perm[places] = permutations\n",
    "        val = test[0]\n",
    "        for i in permutations:\n",
    "            temp = test[1]\n",
    "            for j in range(2, len(test)):\n",
    "                if i[j-2] == \"+\":\n",
    "                    temp += test[j]\n",
    "                elif i[j-2] == \"*\":\n",
    "                    temp *= test[j]\n",
    "            if (temp == val) and (temp not in worked):\n",
    "                worked.add(temp)\n",
    "                res+=val\n",
    "    print(res)"
   ]
  },
  {
   "cell_type": "code",
   "execution_count": 2,
   "metadata": {},
   "outputs": [
    {
     "name": "stdout",
     "output_type": "stream",
     "text": [
      "20928985450275\n"
     ]
    }
   ],
   "source": [
    "import re\n",
    "from itertools import product\n",
    "\n",
    "with open(\"in7.txt\", \"r\") as f:\n",
    "    res = 0\n",
    "    data = f.readlines()\n",
    "    data = [re.findall(r\"\\d+\", i) for i in data]\n",
    "    data = [[int(j) for j in i] for i in data]\n",
    "    symbols = ['*', '+', '||']\n",
    "    worked = set()\n",
    "    cached_perm = dict()\n",
    "\n",
    "    for test in data:\n",
    "        places = len(test) - 2\n",
    "        if places in cached_perm:\n",
    "            permutations = cached_perm[places]\n",
    "        else:\n",
    "            permutations = list(product(symbols, repeat=places))\n",
    "            cached_perm[places] = permutations\n",
    "        val = test[0]\n",
    "        for i in permutations:\n",
    "            temp = test[1]\n",
    "            for j in range(2, len(test)):\n",
    "                if i[j-2] == \"+\":\n",
    "                    temp += test[j]\n",
    "                elif i[j-2] == \"*\":\n",
    "                    temp *= test[j]\n",
    "                elif i[j-2] == \"||\":\n",
    "                    k = 0\n",
    "                    while (test[j]/(10**k) >= 1):\n",
    "                        k+=1\n",
    "                    temp = temp*(10**k) + test[j]\n",
    "            if (temp == val) and (temp not in worked):\n",
    "                worked.add(temp)\n",
    "                res+=val\n",
    "    print(res)"
   ]
  }
 ],
 "metadata": {
  "kernelspec": {
   "display_name": "om",
   "language": "python",
   "name": "python3"
  },
  "language_info": {
   "codemirror_mode": {
    "name": "ipython",
    "version": 3
   },
   "file_extension": ".py",
   "mimetype": "text/x-python",
   "name": "python",
   "nbconvert_exporter": "python",
   "pygments_lexer": "ipython3",
   "version": "3.9.19"
  }
 },
 "nbformat": 4,
 "nbformat_minor": 2
}
