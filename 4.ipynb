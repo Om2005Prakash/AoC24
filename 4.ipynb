{
 "cells": [
  {
   "cell_type": "code",
   "execution_count": 3,
   "metadata": {},
   "outputs": [
    {
     "name": "stdout",
     "output_type": "stream",
     "text": [
      "Part 1 2326\n",
      "Part 2 1796\n"
     ]
    }
   ],
   "source": [
    "import numpy as np\n",
    "\n",
    "with open(\"in4.txt\", \"r\") as f:\n",
    "    data = f.readlines()\n",
    "    data = [list(i)[:-1] for i in data]\n",
    "    data = np.array(data)\n",
    "    height = len(data)\n",
    "    width = len(data[0])\n",
    "\n",
    "    word = \"XMAS\"\n",
    "\n",
    "    directions = [[-1,0],[-1,-1],[0,-1],[1,-1],[1,0],[1,1],[0,1],[-1,1]]\n",
    "\n",
    "    def search(k, i, j, line):\n",
    "        if k == len(word):\n",
    "            return 1\n",
    "        if ((k < len(word)) and (0<=i<width) and (0<=j<height) and (word[k] == data[j][i])):\n",
    "            return search(k+1, i+line[0], j+line[1], line)\n",
    "        else:\n",
    "            return 0\n",
    "    \n",
    "    block = 3\n",
    "\n",
    "    res1 = 0\n",
    "    res2 = 0\n",
    "    for j in range(len(data) - block + 1):\n",
    "        for i in range(len(data[0]) - block + 1):\n",
    "            if data[j][i] == \"X\":\n",
    "                res1 += sum(search(0, i, j, line) for line in directions)\n",
    "    #Part 2\n",
    "    for j in range(len(data) - block + 1):\n",
    "        for i in range(len(data[0]) - block + 1):\n",
    "            temp = data[j:j+block, i:i+block]\n",
    "            dig1 = temp[2][0] + temp[1][1] + temp[0][2]\n",
    "            dig2 = temp[0][0] + temp[1][1] + temp[2][2]\n",
    "\n",
    "            if (dig1 == \"MAS\") or (dig1 == \"SAM\"):\n",
    "                if (dig2 == \"MAS\") or (dig2 == \"SAM\"):\n",
    "                    res2 += 1\n",
    "    print(\"Part 1\", res1)\n",
    "    print(\"Part 2\", res2)"
   ]
  }
 ],
 "metadata": {
  "kernelspec": {
   "display_name": "om",
   "language": "python",
   "name": "python3"
  },
  "language_info": {
   "codemirror_mode": {
    "name": "ipython",
    "version": 3
   },
   "file_extension": ".py",
   "mimetype": "text/x-python",
   "name": "python",
   "nbconvert_exporter": "python",
   "pygments_lexer": "ipython3",
   "version": "3.9.19"
  }
 },
 "nbformat": 4,
 "nbformat_minor": 2
}
