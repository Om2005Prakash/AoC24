{
 "cells": [
  {
   "cell_type": "code",
   "execution_count": 31,
   "metadata": {},
   "outputs": [
    {
     "data": {
      "text/plain": [
       "29388.0"
      ]
     },
     "execution_count": 31,
     "metadata": {},
     "output_type": "execute_result"
    }
   ],
   "source": [
    "import re\n",
    "with open(\"in13.txt\", \"r\") as f:\n",
    "    data = f.read()\n",
    "    prizes = re.findall(r'Button A: X[+-]\\d+, Y[+-]\\d+\\nButton B: X[+-]\\d+, Y[+-]\\d+\\nPrize: X=\\d+, Y=\\d+', data)\n",
    "    prizes = [re.findall(r\"[+-]?\\d+\", i) for i in prizes]\n",
    "    prizes = [[int(j) for j in i] for i in prizes]\n",
    "    res = 0\n",
    "    for i in prizes:\n",
    "        x1 = i[0]\n",
    "        x2 = i[2]\n",
    "        y1 = i[1]\n",
    "        y2 = i[3]\n",
    "        x3 = i[4]\n",
    "        y3 = i[5]\n",
    "        if ((x1/y1) == (x2/y2) == (x3/y3)):\n",
    "            print(\"error\")\n",
    "        a = (x3*y2 - y3*x2)/(x1*y2 - x2*y1)\n",
    "        b = (x3*y1 - y3*x1)/(x2*y1 - y2*x1)\n",
    "        if a == int(a) and b == int(b):\n",
    "            if (0<=a<=100) and (0<=b<=100):\n",
    "                res+=3*a + 1*b\n",
    "res"
   ]
  },
  {
   "cell_type": "code",
   "execution_count": 33,
   "metadata": {},
   "outputs": [
    {
     "data": {
      "text/plain": [
       "99548032866004.0"
      ]
     },
     "execution_count": 33,
     "metadata": {},
     "output_type": "execute_result"
    }
   ],
   "source": [
    "import re\n",
    "with open(\"in13.txt\", \"r\") as f:\n",
    "    data = f.read()\n",
    "    prizes = re.findall(r'Button A: X[+-]\\d+, Y[+-]\\d+\\nButton B: X[+-]\\d+, Y[+-]\\d+\\nPrize: X=\\d+, Y=\\d+', data)\n",
    "    prizes = [re.findall(r\"[+-]?\\d+\", i) for i in prizes]\n",
    "    prizes = [[int(j) for j in i] for i in prizes]\n",
    "    res = 0\n",
    "    for i in prizes:\n",
    "        x1 = i[0]\n",
    "        x2 = i[2]\n",
    "        y1 = i[1]\n",
    "        y2 = i[3]\n",
    "        x3 = i[4] + 10000000000000\n",
    "        y3 = i[5] + 10000000000000\n",
    "        if ((x1/y1) == (x2/y2) == (x3/y3)):\n",
    "            print(\"error\")\n",
    "        a = (x3*y2 - y3*x2)/(x1*y2 - x2*y1)\n",
    "        b = (x3*y1 - y3*x1)/(x2*y1 - y2*x1)\n",
    "        if a == int(a) and b == int(b):\n",
    "            # if (0<=a<=100) and (0<=b<=100):\n",
    "            res+=3*a + 1*b\n",
    "res"
   ]
  }
 ],
 "metadata": {
  "kernelspec": {
   "display_name": "om",
   "language": "python",
   "name": "python3"
  },
  "language_info": {
   "codemirror_mode": {
    "name": "ipython",
    "version": 3
   },
   "file_extension": ".py",
   "mimetype": "text/x-python",
   "name": "python",
   "nbconvert_exporter": "python",
   "pygments_lexer": "ipython3",
   "version": "3.9.19"
  }
 },
 "nbformat": 4,
 "nbformat_minor": 2
}
