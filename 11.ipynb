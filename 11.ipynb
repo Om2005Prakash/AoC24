{
 "cells": [
  {
   "cell_type": "code",
   "execution_count": 2,
   "metadata": {},
   "outputs": [
    {
     "name": "stdout",
     "output_type": "stream",
     "text": [
      "190865\n"
     ]
    }
   ],
   "source": [
    "data = \"2 77706 5847 9258441 0 741 883933 12\"\n",
    "data = data.split()\n",
    "n = 25\n",
    "data = [(int(i),n) for i in data]\n",
    "cache = {}\n",
    "\n",
    "def places(n):\n",
    "    res = 1\n",
    "    temp = n\n",
    "    while temp >= 10:\n",
    "        temp = temp//10\n",
    "        res+=1\n",
    "    return res\n",
    "\n",
    "def compute(pair):\n",
    "    if pair in cache:\n",
    "        return cache[pair]\n",
    "    else:\n",
    "        if pair[1] == 0:\n",
    "            return 1\n",
    "        \n",
    "        if pair[0] == 0:\n",
    "            cache[pair] = compute((1 ,pair[1]-1))\n",
    "            return cache[pair]\n",
    "        else:\n",
    "            temp = places(pair[0])\n",
    "            if temp % 2 == 0:\n",
    "                a = compute((pair[0]//(10**(temp//2)), pair[1]-1))\n",
    "                b = compute((pair[0]%(10**(temp//2)), pair[1]-1))\n",
    "                cache[pair] = a+b\n",
    "                return cache[pair]\n",
    "            else:\n",
    "                cache[pair] = compute((pair[0]*2024, pair[1]-1))\n",
    "                return cache[pair]\n",
    "\n",
    "for i in data:\n",
    "    compute(i)\n",
    "\n",
    "res = 0\n",
    "for i in data:\n",
    "    res += cache[i]\n",
    "print(res)"
   ]
  },
  {
   "cell_type": "code",
   "execution_count": 3,
   "metadata": {},
   "outputs": [
    {
     "name": "stdout",
     "output_type": "stream",
     "text": [
      "225404711855335\n"
     ]
    }
   ],
   "source": [
    "data = \"2 77706 5847 9258441 0 741 883933 12\"\n",
    "data = data.split()\n",
    "n = 75\n",
    "data = [(int(i),n) for i in data]\n",
    "cache = {}\n",
    "\n",
    "def places(n):\n",
    "    res = 1\n",
    "    temp = n\n",
    "    while temp >= 10:\n",
    "        temp = temp//10\n",
    "        res+=1\n",
    "    return res\n",
    "\n",
    "def compute(pair):\n",
    "    if pair in cache:\n",
    "        return cache[pair]\n",
    "    else:\n",
    "        if pair[1] == 0:\n",
    "            return 1\n",
    "        \n",
    "        if pair[0] == 0:\n",
    "            cache[pair] = compute((1 ,pair[1]-1))\n",
    "            return cache[pair]\n",
    "        else:\n",
    "            temp = places(pair[0])\n",
    "            if temp % 2 == 0:\n",
    "                a = compute((pair[0]//(10**(temp//2)), pair[1]-1))\n",
    "                b = compute((pair[0]%(10**(temp//2)), pair[1]-1))\n",
    "                cache[pair] = a+b\n",
    "                return cache[pair]\n",
    "            else:\n",
    "                cache[pair] = compute((pair[0]*2024, pair[1]-1))\n",
    "                return cache[pair]\n",
    "\n",
    "for i in data:\n",
    "    compute(i)\n",
    "\n",
    "res = 0\n",
    "for i in data:\n",
    "    res += cache[i]\n",
    "print(res)"
   ]
  }
 ],
 "metadata": {
  "kernelspec": {
   "display_name": "om",
   "language": "python",
   "name": "python3"
  },
  "language_info": {
   "codemirror_mode": {
    "name": "ipython",
    "version": 3
   },
   "file_extension": ".py",
   "mimetype": "text/x-python",
   "name": "python",
   "nbconvert_exporter": "python",
   "pygments_lexer": "ipython3",
   "version": "3.9.19"
  }
 },
 "nbformat": 4,
 "nbformat_minor": 2
}
