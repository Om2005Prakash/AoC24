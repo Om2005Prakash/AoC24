{
 "cells": [
  {
   "cell_type": "code",
   "execution_count": 13,
   "metadata": {},
   "outputs": [
    {
     "ename": "KeyboardInterrupt",
     "evalue": "",
     "output_type": "error",
     "traceback": [
      "\u001b[0;31m---------------------------------------------------------------------------\u001b[0m",
      "\u001b[0;31mKeyboardInterrupt\u001b[0m                         Traceback (most recent call last)",
      "Cell \u001b[0;32mIn[13], line 16\u001b[0m\n\u001b[1;32m     14\u001b[0m \u001b[38;5;28;01melif\u001b[39;00m \u001b[38;5;28mlen\u001b[39m(curr) \u001b[38;5;241m%\u001b[39m \u001b[38;5;241m2\u001b[39m \u001b[38;5;241m==\u001b[39m \u001b[38;5;241m0\u001b[39m:\n\u001b[1;32m     15\u001b[0m     data[i] \u001b[38;5;241m=\u001b[39m curr[:\u001b[38;5;28mlen\u001b[39m(curr)\u001b[38;5;241m/\u001b[39m\u001b[38;5;241m/\u001b[39m\u001b[38;5;241m2\u001b[39m]\n\u001b[0;32m---> 16\u001b[0m     \u001b[43mdata\u001b[49m\u001b[38;5;241;43m.\u001b[39;49m\u001b[43minsert\u001b[49m\u001b[43m(\u001b[49m\u001b[43mi\u001b[49m\u001b[38;5;241;43m+\u001b[39;49m\u001b[38;5;241;43m1\u001b[39;49m\u001b[43m,\u001b[49m\u001b[43m \u001b[49m\u001b[38;5;28;43mstr\u001b[39;49m\u001b[43m(\u001b[49m\u001b[38;5;28;43mint\u001b[39;49m\u001b[43m(\u001b[49m\u001b[43mcurr\u001b[49m\u001b[43m[\u001b[49m\u001b[38;5;28;43mlen\u001b[39;49m\u001b[43m(\u001b[49m\u001b[43mcurr\u001b[49m\u001b[43m)\u001b[49m\u001b[38;5;241;43m/\u001b[39;49m\u001b[38;5;241;43m/\u001b[39;49m\u001b[38;5;241;43m2\u001b[39;49m\u001b[43m:\u001b[49m\u001b[43m]\u001b[49m\u001b[43m)\u001b[49m\u001b[43m)\u001b[49m\u001b[43m)\u001b[49m\n\u001b[1;32m     17\u001b[0m     i \u001b[38;5;241m+\u001b[39m\u001b[38;5;241m=\u001b[39m \u001b[38;5;241m2\u001b[39m\n\u001b[1;32m     18\u001b[0m     \u001b[38;5;28;01mcontinue\u001b[39;00m\n",
      "\u001b[0;31mKeyboardInterrupt\u001b[0m: "
     ]
    }
   ],
   "source": [
    "import re\n",
    "\n",
    "with open(\"in11.txt\", \"r\") as f:\n",
    "    data = \"2 77706 5847 9258441 0 741 883933 12\"\n",
    "    data = data.split()\n",
    "    for _ in range(75):\n",
    "        i = 0\n",
    "        while i<len(data):\n",
    "            curr = data[i]\n",
    "            if curr == \"0\":\n",
    "                data[i] = \"1\"\n",
    "                i += 1\n",
    "                continue\n",
    "            elif len(curr) % 2 == 0:\n",
    "                data[i] = curr[:len(curr)//2]\n",
    "                data.insert(i+1, str(int(curr[len(curr)//2:])))\n",
    "                i += 2\n",
    "                continue\n",
    "            else:\n",
    "                data[i] = str(int(data[i])*2024)\n",
    "                i += 1\n",
    "                continue\n",
    "        # print(data)"
   ]
  },
  {
   "cell_type": "code",
   "execution_count": null,
   "metadata": {},
   "outputs": [
    {
     "data": {
      "text/plain": [
       "190865"
      ]
     },
     "execution_count": 11,
     "metadata": {},
     "output_type": "execute_result"
    }
   ],
   "source": [
    "len(data)"
   ]
  },
  {
   "cell_type": "code",
   "execution_count": 4,
   "metadata": {},
   "outputs": [
    {
     "data": {
      "text/plain": [
       "12"
      ]
     },
     "execution_count": 4,
     "metadata": {},
     "output_type": "execute_result"
    }
   ],
   "source": [
    "a"
   ]
  },
  {
   "cell_type": "code",
   "execution_count": null,
   "metadata": {},
   "outputs": [],
   "source": [
    "import re\n",
    "\n",
    "with open(\"in11.txt\", \"r\") as f:\n",
    "    data = \"2 77706 5847 9258441 0 741 883933 12\"\n",
    "    data = data.split()\n",
    "    data = [int(i) for i in data]\n",
    "    def places(n):\n",
    "        res = 1\n",
    "        temp = n\n",
    "        while temp >= 10:\n",
    "            temp = temp//10\n",
    "            res+=1\n",
    "        return res\n",
    "    for _ in range(75):\n",
    "        i = 0\n",
    "        while i<len(data):\n",
    "            curr = data[i]\n",
    "            if curr == 0:\n",
    "                data[i] = 1\n",
    "                i += 1\n",
    "                continue\n",
    "            elif places(curr) % 2 == 0:\n",
    "                data[i] = curr//(10**(places(curr)//2))\n",
    "                data.insert(i+1, curr%(10**(places(curr)//2)))\n",
    "                i += 2\n",
    "                continue\n",
    "            else:\n",
    "                data[i] = data[i]*2024\n",
    "                i += 1\n",
    "                continue\n",
    "        # print(data)"
   ]
  }
 ],
 "metadata": {
  "kernelspec": {
   "display_name": "om",
   "language": "python",
   "name": "python3"
  },
  "language_info": {
   "codemirror_mode": {
    "name": "ipython",
    "version": 3
   },
   "file_extension": ".py",
   "mimetype": "text/x-python",
   "name": "python",
   "nbconvert_exporter": "python",
   "pygments_lexer": "ipython3",
   "version": "3.9.19"
  }
 },
 "nbformat": 4,
 "nbformat_minor": 2
}
