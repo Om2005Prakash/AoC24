{
 "cells": [
  {
   "cell_type": "code",
   "execution_count": 3,
   "metadata": {},
   "outputs": [
    {
     "name": "stdout",
     "output_type": "stream",
     "text": [
      "72428\n"
     ]
    }
   ],
   "source": [
    "import heapq\n",
    "\n",
    "with open(\"in16.txt\", \"r\") as f:\n",
    "    map = f.readlines()\n",
    "    map = [list(i[:-1]) for i in map]\n",
    "    dirs = [(-1,0), (0,1), (1,0), (0,-1)]\n",
    "    map_bool = [[{head:99999 for head in dirs} for j in i] for i in map]\n",
    "    width = len(map[0])\n",
    "    height = len(map)\n",
    "\n",
    "    for j in range(height):\n",
    "        for i in range(width):\n",
    "            if map[j][i] == \"S\":\n",
    "                start = [j, i]\n",
    "                map[j][i] = \".\"\n",
    "            elif map[j][i] == \"E\":\n",
    "                end = [j, i]\n",
    "                map[j][i] = \".\"\n",
    "\n",
    "def dijk(j,i,head):\n",
    "    queue = [[0, j, i, head, []]]\n",
    "    heapq.heapify(queue)\n",
    "    \n",
    "    while len(queue):\n",
    "        (n, j, i, head, history) = heapq.heappop(queue)\n",
    "        if [j, i] == end:\n",
    "            return n\n",
    "        for dir in dirs:\n",
    "            nj = j + dir[0]\n",
    "            ni = i + dir[1]\n",
    "            if (map[nj][ni]==\".\") and (map_bool[nj][ni][head] >= n):\n",
    "                map_bool[nj][ni][head] = n\n",
    "                if dir!=head:\n",
    "                    heapq.heappush(queue, ((n+1 + 1000, nj, ni, dir, history + [[j,i]])))\n",
    "                else:\n",
    "                    heapq.heappush(queue, ((n+1, nj, ni, dir, history + [[j,i]])))\n",
    "\n",
    "print(dijk(start[0],start[1],(0,1)))\n"
   ]
  },
  {
   "cell_type": "code",
   "execution_count": null,
   "metadata": {},
   "outputs": [
    {
     "name": "stdout",
     "output_type": "stream",
     "text": [
      "456\n"
     ]
    }
   ],
   "source": [
    "best_tiles = set()\n",
    "best_tiles.add(tuple(start))\n",
    "best_tiles.add(tuple(end))\n",
    "\n",
    "def dijk(j,i,head):\n",
    "    queue = [[0, j, i, head, []]]\n",
    "    heapq.heapify(queue)\n",
    "    \n",
    "    while len(queue):\n",
    "        (n, j, i, head, history) = heapq.heappop(queue)\n",
    "        if [j, i] == end:\n",
    "            if n == 72428: #Put answer of Part 1 HERE\n",
    "                for tile in history:\n",
    "                    best_tiles.add(tuple(tile))\n",
    "        \n",
    "        for dir in dirs:\n",
    "            nj = j + dir[0]\n",
    "            ni = i + dir[1]\n",
    "            if (map[nj][ni]==\".\") and (map_bool[nj][ni][head] >= n):\n",
    "                map_bool[nj][ni][head] = n\n",
    "                if dir!=head:\n",
    "                    heapq.heappush(queue, ((n+1 + 1000, nj, ni, dir, history + [[j,i]])))\n",
    "                else:\n",
    "                    heapq.heappush(queue, ((n+1, nj, ni, dir, history + [[j,i]])))\n",
    "\n",
    "dijk(start[0],start[1],(0,1))\n",
    "print(len(best_tiles))"
   ]
  }
 ],
 "metadata": {
  "kernelspec": {
   "display_name": "om",
   "language": "python",
   "name": "python3"
  },
  "language_info": {
   "codemirror_mode": {
    "name": "ipython",
    "version": 3
   },
   "file_extension": ".py",
   "mimetype": "text/x-python",
   "name": "python",
   "nbconvert_exporter": "python",
   "pygments_lexer": "ipython3",
   "version": "3.9.19"
  }
 },
 "nbformat": 4,
 "nbformat_minor": 2
}
