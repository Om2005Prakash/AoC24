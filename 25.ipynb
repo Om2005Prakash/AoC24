{
 "cells": [
  {
   "cell_type": "code",
   "execution_count": 47,
   "metadata": {},
   "outputs": [
    {
     "data": {
      "text/plain": [
       "2815"
      ]
     },
     "execution_count": 47,
     "metadata": {},
     "output_type": "execute_result"
    }
   ],
   "source": [
    "import re\n",
    "import numpy as np\n",
    "with open(\"in25.txt\", \"r\") as f:\n",
    "    data = f.read()\n",
    "    data = re.findall(r\"[#.]+\\n[#.]+\\n[#.]+\\n[#.]+\\n[#.]+\\n[#.]+\\n[#.]+\", data)\n",
    "    data = [i.split('\\n') for i in data]\n",
    "\n",
    "locks = []\n",
    "keys = []\n",
    "\n",
    "for d in data:\n",
    "    count = np.array([-1 for _ in range(len(d[0]))])\n",
    "    for j in range(len(d)):\n",
    "        for i in range(len(d[0])):\n",
    "            if d[j][i] == \"#\":\n",
    "                count[i] += 1\n",
    "    if d[0] == '#####':\n",
    "        locks.append(count)\n",
    "    elif d[-1] == '#####':\n",
    "        keys.append(count)\n",
    "\n",
    "res = 0\n",
    "for l in locks:\n",
    "    for i in keys:\n",
    "        # print(l, i)\n",
    "        # print(((l + i) <= 5))\n",
    "        # print(((l + i) <= 5).all())\n",
    "        if ((l + i) <= 5).all() == True:\n",
    "            res += 1\n",
    "res"
   ]
  },
  {
   "cell_type": "code",
   "execution_count": 10,
   "metadata": {},
   "outputs": [
    {
     "data": {
      "text/plain": [
       "[['#####', '.####', '.####', '.####', '.#.#.', '.#...', '.....'],\n",
       " ['#####', '##.##', '.#.##', '...##', '...#.', '...#.', '.....'],\n",
       " ['.....', '#....', '#....', '#...#', '#.#.#', '#.###', '#####'],\n",
       " ['.....', '.....', '#.#..', '###..', '###.#', '###.#', '#####'],\n",
       " ['.....', '.....', '.....', '#....', '#.#..', '#.#.#', '#####']]"
      ]
     },
     "execution_count": 10,
     "metadata": {},
     "output_type": "execute_result"
    }
   ],
   "source": [
    "data"
   ]
  },
  {
   "cell_type": "code",
   "execution_count": 20,
   "metadata": {},
   "outputs": [
    {
     "data": {
      "text/plain": [
       "array([ True, False,  True])"
      ]
     },
     "execution_count": 20,
     "metadata": {},
     "output_type": "execute_result"
    }
   ],
   "source": [
    "np.array([0,7,0]) < 5"
   ]
  },
  {
   "cell_type": "code",
   "execution_count": 15,
   "metadata": {},
   "outputs": [
    {
     "data": {
      "text/plain": [
       "250"
      ]
     },
     "execution_count": 15,
     "metadata": {},
     "output_type": "execute_result"
    }
   ],
   "source": [
    "keys"
   ]
  },
  {
   "cell_type": "code",
   "execution_count": 33,
   "metadata": {},
   "outputs": [
    {
     "data": {
      "text/plain": [
       "np.True_"
      ]
     },
     "execution_count": 33,
     "metadata": {},
     "output_type": "execute_result"
    }
   ],
   "source": [
    "(np.array([3,2,4]) < 5).all() == np.True_"
   ]
  },
  {
   "cell_type": "code",
   "execution_count": null,
   "metadata": {},
   "outputs": [],
   "source": []
  }
 ],
 "metadata": {
  "kernelspec": {
   "display_name": "om",
   "language": "python",
   "name": "python3"
  },
  "language_info": {
   "codemirror_mode": {
    "name": "ipython",
    "version": 3
   },
   "file_extension": ".py",
   "mimetype": "text/x-python",
   "name": "python",
   "nbconvert_exporter": "python",
   "pygments_lexer": "ipython3",
   "version": "3.9.19"
  }
 },
 "nbformat": 4,
 "nbformat_minor": 2
}
