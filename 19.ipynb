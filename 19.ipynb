{
 "cells": [
  {
   "cell_type": "code",
   "execution_count": 1,
   "metadata": {},
   "outputs": [],
   "source": [
    "import heapq\n",
    "from collections import deque\n",
    "from IPython.display import clear_output\n",
    "import re"
   ]
  },
  {
   "cell_type": "code",
   "execution_count": 16,
   "metadata": {},
   "outputs": [],
   "source": [
    "with open(\"in19.txt\", \"r\") as f:\n",
    "    data = f.readlines()\n",
    "    towels = re.findall(r\"[a-z]+\", data[0])\n",
    "    patterns = []\n",
    "    for i in data[2:]:\n",
    "        if i != '\\n':\n",
    "            patterns.append(i[:-1])"
   ]
  },
  {
   "cell_type": "code",
   "execution_count": null,
   "metadata": {},
   "outputs": [
    {
     "name": "stdout",
     "output_type": "stream",
     "text": [
      "7\n"
     ]
    }
   ],
   "source": [
    "cache = {}\n",
    "\n",
    "def backtrack(i):\n",
    "    global pattern\n",
    "    if i == len(pattern):\n",
    "        return 1\n",
    "    \n",
    "    if pattern[i:] in cache:\n",
    "        return cache[pattern[i:]]\n",
    "    else:\n",
    "        cache[pattern[i:]] = 0\n",
    "        for towel in towels:\n",
    "            if towel == pattern[i:i+len(towel)]:\n",
    "                if backtrack(i+len(towel)):\n",
    "                    cache[pattern[i:]] = 1\n",
    "                    break\n",
    "        return cache[pattern[i:]]\n",
    "\n",
    "res = 0\n",
    "for pattern in patterns:\n",
    "    for towel in towels:\n",
    "        if towel == pattern[:len(towel)]:\n",
    "            if backtrack(len(towel)):\n",
    "                res += 1\n",
    "                break\n",
    "print(res)"
   ]
  },
  {
   "cell_type": "code",
   "execution_count": 18,
   "metadata": {},
   "outputs": [
    {
     "data": {
      "text/plain": [
       "{'rwrr': 1,\n",
       " 'ggr': 1,\n",
       " 'bbr': 1,\n",
       " 'rbgbr': 1,\n",
       " 'wurrg': 0,\n",
       " 'rrg': 1,\n",
       " 'rgr': 1,\n",
       " 'brgwb': 1}"
      ]
     },
     "execution_count": 18,
     "metadata": {},
     "output_type": "execute_result"
    }
   ],
   "source": [
    "cache"
   ]
  },
  {
   "cell_type": "code",
   "execution_count": null,
   "metadata": {},
   "outputs": [
    {
     "name": "stdout",
     "output_type": "stream",
     "text": [
      "622121814629343\n"
     ]
    }
   ],
   "source": [
    "cache = {}\n",
    "\n",
    "def backtrack(i):\n",
    "    global pattern\n",
    "    if i == len(pattern):\n",
    "        return 1\n",
    "    \n",
    "    if pattern[i:] in cache:\n",
    "        return cache[pattern[i:]]\n",
    "    else:\n",
    "        cache[pattern[i:]] = 0\n",
    "        for towel in towels:\n",
    "            if towel == pattern[i:i+len(towel)]:\n",
    "                cache[pattern[i:]] += backtrack(i+len(towel))\n",
    "        return cache[pattern[i:]]\n",
    "\n",
    "res = 0\n",
    "for pattern in patterns:\n",
    "    for towel in towels:\n",
    "        if towel == pattern[:len(towel)]:\n",
    "            res += backtrack(len(towel))\n",
    "print(res)"
   ]
  },
  {
   "cell_type": "code",
   "execution_count": null,
   "metadata": {},
   "outputs": [],
   "source": [
    "def backtrack(i):\n",
    "    global used\n",
    "    global pattern\n",
    "    if i == len(pattern):\n",
    "        return 1\n",
    "    for towel in towels:\n",
    "        if used[towel] == 0 and towel == pattern[i:i+len(towel)]:\n",
    "            used[towel] = 1\n",
    "            if backtrack(i+len(towel)):\n",
    "                used[towel] = 0\n",
    "                return 1\n",
    "            used[towel] = 0\n",
    "    return 0\n",
    "\n",
    "used = {towel:0 for towel in towels}\n",
    "res = 0\n",
    "for pattern in patterns:\n",
    "    for towel in towels:\n",
    "        # print(towel)\n",
    "        if towel == pattern[:len(towel)]:\n",
    "            used[towel] = 1\n",
    "            if backtrack(len(towel)):\n",
    "                print(pattern)\n",
    "                res+=1\n",
    "                used[towel] = 0\n",
    "                break\n",
    "            used[towel] = 0\n",
    "print(res)"
   ]
  }
 ],
 "metadata": {
  "kernelspec": {
   "display_name": "om",
   "language": "python",
   "name": "python3"
  },
  "language_info": {
   "codemirror_mode": {
    "name": "ipython",
    "version": 3
   },
   "file_extension": ".py",
   "mimetype": "text/x-python",
   "name": "python",
   "nbconvert_exporter": "python",
   "pygments_lexer": "ipython3",
   "version": "3.9.19"
  }
 },
 "nbformat": 4,
 "nbformat_minor": 2
}
