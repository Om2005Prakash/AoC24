{
 "cells": [
  {
   "cell_type": "code",
   "execution_count": 97,
   "metadata": {},
   "outputs": [],
   "source": [
    "with open(\"in22.txt\", \"r\") as f:\n",
    "    nums = f.readlines()\n",
    "    nums = [int(n) for n in nums]\n",
    "\n",
    "def process(sec):\n",
    "    sec = ((sec * 64) ^ (sec))\n",
    "    sec = (sec % 16777216)\n",
    "    sec = ((sec// 32) ^ (sec))\n",
    "    sec = (sec % 16777216)\n",
    "    sec = ((sec * 2048) ^ (sec))\n",
    "    sec = (sec % 16777216)\n",
    "    return sec\n",
    "\n",
    "seqs = [[0 for _ in range(2000)] for _ in range(len(nums))]\n",
    "\n",
    "for i in range(len(nums)):\n",
    "    seqs[i][0] = nums[i] % 10\n",
    "\n",
    "for i in range(len(nums)):\n",
    "    for j in range(1,2000):\n",
    "        temp = process(nums[i])\n",
    "        seqs[i][j] = temp % 10\n",
    "        nums[i] = temp"
   ]
  },
  {
   "cell_type": "code",
   "execution_count": null,
   "metadata": {},
   "outputs": [
    {
     "name": "stdout",
     "output_type": "stream",
     "text": [
      "14309429024\n"
     ]
    }
   ],
   "source": [
    "print(\"Part 1\", sum(i for i in nums))"
   ]
  },
  {
   "cell_type": "code",
   "execution_count": 98,
   "metadata": {},
   "outputs": [],
   "source": [
    "poss = [(a,b,c,d) for a in range(-9,10) for b in range(-9,10) for c in range(-9,10) for d in range(-9,10)] \n",
    "\n",
    "def check(a,b,c,d):\n",
    "    if abs(a+b) < 10 and abs(b+c) < 10 and abs(c+d) < 10:\n",
    "        if abs(a+b+c) < 10 and abs(b+c+d) < 10:\n",
    "            if abs(a+b+c+d) < 10:\n",
    "                return 1\n",
    "    return 0\n",
    "\n",
    "poss = [(a,b,c,d) for (a,b,c,d) in poss if check(a,b,c,d)]\n",
    "poss = {(a,b,c,d): [-1 for _ in range(len(nums))] for (a,b,c,d) in poss}"
   ]
  },
  {
   "cell_type": "code",
   "execution_count": 99,
   "metadata": {},
   "outputs": [],
   "source": [
    "for i in range(len(nums)):\n",
    "    for j in range(0,2000-4):\n",
    "        a = seqs[i][j] - (seqs[i][j-1] if j-1 >= 0 else 0)\n",
    "        b = seqs[i][j+1] - seqs[i][j]\n",
    "        c = seqs[i][j+2] - seqs[i][j+1]\n",
    "        d = seqs[i][j+3] - seqs[i][j+2]\n",
    "        # if (a,b,c,d) == (-2,1,-1,3):\n",
    "        #     print(\"Yes\")\n",
    "        if poss[(a,b,c,d)][i] == -1:\n",
    "            poss[(a,b,c,d)][i] = seqs[i][j+3]"
   ]
  },
  {
   "cell_type": "code",
   "execution_count": null,
   "metadata": {},
   "outputs": [
    {
     "name": "stdout",
     "output_type": "stream",
     "text": [
      "1630\n"
     ]
    }
   ],
   "source": [
    "res = 0\n",
    "for (a,b,c,d) in poss:\n",
    "    temp = sum(i if i!=-1 else 0 for i in poss[(a,b,c,d)])\n",
    "    if temp > res:\n",
    "        res = temp\n",
    "\n",
    "print(\"Part 2\", res)"
   ]
  }
 ],
 "metadata": {
  "kernelspec": {
   "display_name": "om",
   "language": "python",
   "name": "python3"
  },
  "language_info": {
   "codemirror_mode": {
    "name": "ipython",
    "version": 3
   },
   "file_extension": ".py",
   "mimetype": "text/x-python",
   "name": "python",
   "nbconvert_exporter": "python",
   "pygments_lexer": "ipython3",
   "version": "3.9.19"
  }
 },
 "nbformat": 4,
 "nbformat_minor": 2
}
