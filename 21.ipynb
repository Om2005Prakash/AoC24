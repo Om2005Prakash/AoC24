{
 "cells": [
  {
   "cell_type": "code",
   "execution_count": 15,
   "metadata": {},
   "outputs": [],
   "source": [
    "from collections import deque\n",
    "\n",
    "numpad = [[7,8,9],\n",
    "          [4,5,6],\n",
    "          [1,2,3],\n",
    "          ['',0,'A']]\n",
    "\n",
    "numpad_move = [[[[0,0,0],\n",
    "                [0,0,0],\n",
    "                [0,0,0],\n",
    "                [0,0,0]] for _ in range(3)] for _ in range(4)]\n",
    "\n",
    "def map_num(n):\n",
    "    if n == '7':\n",
    "        return (0,0)\n",
    "    elif n == '8':\n",
    "        return (0,1)\n",
    "    elif n == '9':\n",
    "        return (0,2)\n",
    "    elif n == '4':\n",
    "        return (1,0)\n",
    "    elif n == '5':\n",
    "        return (1,1)\n",
    "    elif n == '6':\n",
    "        return (1,2)\n",
    "    elif n == '1':\n",
    "        return (2,0)\n",
    "    elif n == '2':\n",
    "        return (2,1)\n",
    "    elif n == '3':\n",
    "        return (2,2)\n",
    "    elif n == '0':\n",
    "        return (3,1)\n",
    "    elif n == 'A':\n",
    "        return (3,2)\n",
    "\n",
    "dirs = [(-1,0), (1,0), (0,1), (0,-1)]\n",
    "dirs_map = {(-1,0):'^', (1,0):'v', (0,1):'>', (0,-1):'<'}\n",
    "\n",
    "for j in range(4):\n",
    "    for i in range(3):\n",
    "        queue = deque([(j,i,'')])\n",
    "        ref = numpad_move[j][i]\n",
    "\n",
    "        while queue:\n",
    "            (nj, ni, his) = queue.popleft()\n",
    "            ref[nj][ni] = his\n",
    "            for dir in dirs:\n",
    "                nnj = nj + dir[0]\n",
    "                nni = ni + dir[1]\n",
    "                if 0<=nnj<4 and 0<=nni<3 and ref[nnj][nni]==0 and numpad[nnj][nni]!='':\n",
    "                    queue.append((nnj,nni,his + dirs_map[dir]))"
   ]
  },
  {
   "cell_type": "code",
   "execution_count": 16,
   "metadata": {},
   "outputs": [],
   "source": [
    "remote = [['','^','A'],\n",
    "          ['<','v','>']]\n",
    "\n",
    "remote_move = [[[[0,0,0],\n",
    "               [0,0,0]] for _ in range(3)] for _ in range(2)]\n",
    "\n",
    "def map_remote(n):\n",
    "    if n == '^':\n",
    "        return (0,1)\n",
    "    elif n == 'A':\n",
    "        return (0,2)\n",
    "    elif n == '<':\n",
    "        return (1,0)\n",
    "    elif n == 'v':\n",
    "        return (1,1)\n",
    "    elif n == '>':\n",
    "        return (1,2)\n",
    "    \n",
    "for j in range(2):\n",
    "    for i in range(3):\n",
    "        queue = deque([(j,i,'')])\n",
    "        ref = remote_move[j][i]\n",
    "\n",
    "        while queue:\n",
    "            (nj, ni, his) = queue.popleft()\n",
    "            ref[nj][ni] = his\n",
    "            for dir in dirs:\n",
    "                nnj = nj + dir[0]\n",
    "                nni = ni + dir[1]\n",
    "                if 0<=nnj<2 and 0<=nni<3 and ref[nnj][nni]==0 and remote[nnj][nni]!='':\n",
    "                    queue.append((nnj,nni,his+dirs_map[dir]))"
   ]
  },
  {
   "cell_type": "code",
   "execution_count": 3,
   "metadata": {},
   "outputs": [
    {
     "data": {
      "text/plain": [
       "'^'"
      ]
     },
     "execution_count": 3,
     "metadata": {},
     "output_type": "execute_result"
    }
   ],
   "source": [
    "start = map_num(\"0\")\n",
    "end = map_num('2')\n",
    "numpad_move[start[0]][start[1]][end[0]][end[1]]"
   ]
  },
  {
   "cell_type": "code",
   "execution_count": 33,
   "metadata": {},
   "outputs": [],
   "source": [
    "tar_num = '980A'\n",
    "p_num = map_num('A')\n",
    "p_rem1 = map_remote('A')\n",
    "# p_rem2 = map_remote('A')\n",
    "\n",
    "res = ''\n",
    "\n",
    "for tn in tar_num:\n",
    "    np_num = map_num(tn)\n",
    "    tar_rem1 = numpad_move[p_num[0]][p_num[1]][np_num[0]][np_num[1]]\n",
    "    for tr1 in tar_rem1:\n",
    "        np_rem1 = map_remote(tr1)\n",
    "        tar_rem2 = remote_move[p_rem1[0]][p_rem1[1]][np_rem1[0]][np_rem1[1]]\n",
    "        res += (tar_rem2 + 'A')\n",
    "        p_rem1 = np_rem1\n",
    "        np_rem1 = map_remote('A')\n",
    "        tar_rem2 = remote_move[p_rem1[0]][p_rem1[1]][np_rem1[0]][np_rem1[1]]\n",
    "        res += (tar_rem2 + 'A')\n",
    "        p_rem1 = np_rem1\n",
    "    p_num = np_num\n",
    "    np_num = map_num('A')\n",
    "    tar_rem1 = numpad_move[p_num[0]][p_num[1]][np_num[0]][np_num[1]]\n",
    "    for tr1 in tar_rem1:\n",
    "        np_rem1 = map_remote(tr1)\n",
    "        tar_rem2 = remote_move[p_rem1[0]][p_rem1[1]][np_rem1[0]][np_rem1[1]]\n",
    "        res += (tar_rem2 + 'A')\n",
    "        p_rem1 = np_rem1\n",
    "        np_rem1 = map_remote('A')\n",
    "        tar_rem2 = remote_move[p_rem1[0]][p_rem1[1]][np_rem1[0]][np_rem1[1]]\n",
    "        res += (tar_rem2 + 'A')\n",
    "        p_rem1 = np_rem1\n",
    "    p_num = np_num"
   ]
  },
  {
   "cell_type": "code",
   "execution_count": 34,
   "metadata": {},
   "outputs": [
    {
     "data": {
      "text/plain": [
       "84"
      ]
     },
     "execution_count": 34,
     "metadata": {},
     "output_type": "execute_result"
    }
   ],
   "source": [
    "len(res)"
   ]
  },
  {
   "cell_type": "code",
   "execution_count": 35,
   "metadata": {},
   "outputs": [
    {
     "data": {
      "text/plain": [
       "'<A>A<A>A<A>A<vA>^A<vA>^A<vA>^A<v<A>>^A<A>A<A>A<A>AvA^A<vA>^A<vA>^A<vA>^A<v<A>>^AvA^A'"
      ]
     },
     "execution_count": 35,
     "metadata": {},
     "output_type": "execute_result"
    }
   ],
   "source": [
    "res"
   ]
  },
  {
   "cell_type": "code",
   "execution_count": null,
   "metadata": {},
   "outputs": [],
   "source": [
    "'''\n",
    "<A>A\n",
    "<v<A >^>A vA ^A\n",
    "'''"
   ]
  }
 ],
 "metadata": {
  "kernelspec": {
   "display_name": "om",
   "language": "python",
   "name": "python3"
  },
  "language_info": {
   "codemirror_mode": {
    "name": "ipython",
    "version": 3
   },
   "file_extension": ".py",
   "mimetype": "text/x-python",
   "name": "python",
   "nbconvert_exporter": "python",
   "pygments_lexer": "ipython3",
   "version": "3.9.19"
  }
 },
 "nbformat": 4,
 "nbformat_minor": 2
}
