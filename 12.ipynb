{
 "cells": [
  {
   "cell_type": "code",
   "execution_count": null,
   "metadata": {},
   "outputs": [],
   "source": [
    "'''\n",
    "Part1: \n",
    "* First we filter out different plants make seperate maps for each plant\n",
    "* Then for each of plant map, we filter out connected componets within it\n",
    "* For each connected component we perform area, perimeter calculations and add\n",
    "* Area calculation is just number of tiles in that component\n",
    "* For Perimeter calculation we just have to count the number of tiles which has alteast 1 neighbour that is not connected\n",
    "'''"
   ]
  },
  {
   "cell_type": "code",
   "execution_count": 1,
   "metadata": {},
   "outputs": [],
   "source": [
    "from collections import deque\n",
    "\n",
    "with open(\"in12.txt\", \"r\") as f:\n",
    "    map = f.readlines()\n",
    "    map = [list(i[:-1]) for i in map]\n",
    "    map_bool = [[0 for j in i] for i in map]\n",
    "\n",
    "    length = len(map[0])\n",
    "    width = len(map)\n",
    "    dirs = [(-1,0), (0,1), (1,0), (0,-1)]\n",
    "\n",
    "    components = dict()\n",
    "\n",
    "    def bfs(j, i, condition):\n",
    "        queue = deque([(j, i),])\n",
    "        seen = [[0 for j in i] for i in map]\n",
    "        seen[j][i] = 1\n",
    "        map_bool[j][i] = 1\n",
    "\n",
    "        while queue:\n",
    "            (j, i) = queue.popleft()\n",
    "            for dir in dirs:\n",
    "                nj = j + dir[0]\n",
    "                ni = i + dir[1]\n",
    "                if (0<=nj<width) and (0<=ni<length) and condition(nj, ni, j, i) and seen[nj][ni] == 0:\n",
    "                    seen[nj][ni] = 1\n",
    "                    queue.append((nj, ni))\n",
    "                    map_bool[nj][ni] = 1\n",
    "        return seen\n",
    "    \n",
    "    def test_1(nj, ni, j, i):\n",
    "        return (map[nj][ni] == map[j][i])\n",
    "\n",
    "    for j in range(width):\n",
    "        for i in range(length):\n",
    "            if map[j][i] not in components:\n",
    "                components[map[j][i]] = []\n",
    "            if map_bool[j][i] == 0:\n",
    "                components[map[j][i]].append(bfs(j,i,test_1))"
   ]
  },
  {
   "cell_type": "code",
   "execution_count": 2,
   "metadata": {},
   "outputs": [
    {
     "data": {
      "text/plain": [
       "1446042"
      ]
     },
     "execution_count": 2,
     "metadata": {},
     "output_type": "execute_result"
    }
   ],
   "source": [
    "res = 0\n",
    "for key in components:\n",
    "    for component in components[key]:\n",
    "        area = 0\n",
    "        peri = 0\n",
    "        for j in range(width):\n",
    "            for i in range(length):\n",
    "                if component[j][i] == 1:\n",
    "                    area+=1\n",
    "                    dirs = [(-1,0), (0,1), (1,0), (0,-1)]\n",
    "                    for dir in dirs:\n",
    "                        nj = j + dir[0]\n",
    "                        ni = i + dir[1]\n",
    "                        if (nj<0 or nj>=width) or (ni<0 or ni>=length) or (component[nj][ni] == 0):\n",
    "                            peri+=1\n",
    "        res+=area*peri\n",
    "res"
   ]
  },
  {
   "cell_type": "code",
   "execution_count": 3,
   "metadata": {},
   "outputs": [
    {
     "data": {
      "text/plain": [
       "902742"
      ]
     },
     "execution_count": 3,
     "metadata": {},
     "output_type": "execute_result"
    }
   ],
   "source": [
    "def test_3(nj, ni, j, i):\n",
    "    return (temp[nj][ni] == -1)\n",
    "\n",
    "res = 0\n",
    "for key in components:\n",
    "    for component in components[key]:\n",
    "        area = 0\n",
    "        for j in range(width):\n",
    "            for i in range(length):\n",
    "                if component[j][i] == 1:\n",
    "                    area+=1\n",
    "\n",
    "        side = 0\n",
    "        for dir in dirs:\n",
    "            temp = [[0 for j in i] for i in map]\n",
    "            for j in range(width):\n",
    "                for i in range(length):\n",
    "                    if component[j][i] == 1:\n",
    "                        nj = j + dir[0]\n",
    "                        ni = i + dir[1]\n",
    "                        if (nj<0 or nj>=width) or (ni<0 or ni>=length) or (component[nj][ni] == 0):\n",
    "                            temp[j][i] = -1\n",
    "    \n",
    "            map_bool = tuple([0 for _ in i] for i in map)\n",
    "            for j in range(width):\n",
    "                for i in range(length):\n",
    "                    if (map_bool[j][i] == 0) and (temp[j][i] == -1):\n",
    "                        bfs(j, i, test_3)\n",
    "                        side += 1\n",
    "        res+=side*area\n",
    "res"
   ]
  }
 ],
 "metadata": {
  "kernelspec": {
   "display_name": "om",
   "language": "python",
   "name": "python3"
  },
  "language_info": {
   "codemirror_mode": {
    "name": "ipython",
    "version": 3
   },
   "file_extension": ".py",
   "mimetype": "text/x-python",
   "name": "python",
   "nbconvert_exporter": "python",
   "pygments_lexer": "ipython3",
   "version": "3.9.19"
  }
 },
 "nbformat": 4,
 "nbformat_minor": 2
}
