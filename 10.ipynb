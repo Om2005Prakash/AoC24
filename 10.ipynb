{
 "cells": [
  {
   "cell_type": "code",
   "execution_count": 1,
   "metadata": {},
   "outputs": [
    {
     "name": "stdout",
     "output_type": "stream",
     "text": [
      "Part 1: 496\n"
     ]
    }
   ],
   "source": [
    "with open(\"in10.txt\", \"r\") as f:\n",
    "    data = f.readlines()\n",
    "    data = [list(i[:-1]) for i in data]\n",
    "    data = [[int(i) for i in j] for j in data]\n",
    "\n",
    "    heads = {}\n",
    "    for j in range(len(data)):\n",
    "        for i in range(len(data[0])):\n",
    "            if data[j][i] == 0:\n",
    "                heads[j,i] = 0\n",
    "    \n",
    "    length = len(data[0])\n",
    "    width = len(data)\n",
    "\n",
    "    def bfs(head):\n",
    "        seen = [[0 for i in j] for j in data]\n",
    "        stack = [head,]\n",
    "        dirs = [[-1,0],[0,1],[1,0],[0,-1]]\n",
    "        seen[head[0]][head[1]] = 1\n",
    "        res = 0\n",
    "        while stack:\n",
    "            curr = stack.pop(0)\n",
    "            j = curr[0]\n",
    "            i = curr[1]\n",
    "            for k in dirs:\n",
    "                n_j = j + k[0]\n",
    "                n_i = i + k[1]\n",
    "                if 0<=n_j<width and 0<=n_i<length and seen[n_j][n_i] == 0 and data[n_j][n_i] == 1 + data[j][i]:\n",
    "                    seen[n_j][n_i] = 1\n",
    "                    stack.append((n_j,n_i))\n",
    "                    if data[n_j][n_i] == 9:\n",
    "                        res += 1\n",
    "        return res\n",
    "    res = 0\n",
    "    for i in heads:\n",
    "        res += bfs(i)\n",
    "    print(f\"Part 1: {res}\")"
   ]
  },
  {
   "cell_type": "code",
   "execution_count": 2,
   "metadata": {},
   "outputs": [
    {
     "name": "stdout",
     "output_type": "stream",
     "text": [
      "Part 2: 1120\n"
     ]
    }
   ],
   "source": [
    "with open(\"in10.txt\", \"r\") as f:\n",
    "    data = f.readlines()\n",
    "    data = [list(i[:-1]) for i in data]\n",
    "    data = [[int(i) if i.isnumeric() else 100 for i in j] for j in data]\n",
    "\n",
    "    heads = {}\n",
    "    for j in range(len(data)):\n",
    "        for i in range(len(data[0])):\n",
    "            if data[j][i] == 0:\n",
    "                heads[j,i] = 0\n",
    "    \n",
    "    length = len(data[0])\n",
    "    width = len(data)\n",
    "\n",
    "    def bfs(head):\n",
    "        stack = [head,]\n",
    "        dirs = [[-1,0],[0,1],[1,0],[0,-1]]\n",
    "        res = 0\n",
    "        while stack:\n",
    "            curr = stack.pop(0)\n",
    "            j = curr[0]\n",
    "            i = curr[1]\n",
    "            for k in dirs:\n",
    "                n_j = j + k[0]\n",
    "                n_i = i + k[1]\n",
    "                if 0<=n_j<width and 0<=n_i<length and data[n_j][n_i] == 1 + data[j][i]:\n",
    "                    stack.append((n_j,n_i))\n",
    "                    if data[n_j][n_i] == 9:\n",
    "                        res += 1\n",
    "        return res\n",
    "    res = 0\n",
    "    for i in heads:\n",
    "        res += bfs(i)\n",
    "    print(f\"Part 2: {res}\")\n",
    "\n"
   ]
  }
 ],
 "metadata": {
  "kernelspec": {
   "display_name": "om",
   "language": "python",
   "name": "python3"
  },
  "language_info": {
   "codemirror_mode": {
    "name": "ipython",
    "version": 3
   },
   "file_extension": ".py",
   "mimetype": "text/x-python",
   "name": "python",
   "nbconvert_exporter": "python",
   "pygments_lexer": "ipython3",
   "version": "3.9.19"
  }
 },
 "nbformat": 4,
 "nbformat_minor": 2
}
