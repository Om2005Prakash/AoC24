{
 "cells": [
  {
   "cell_type": "code",
   "execution_count": 9,
   "metadata": {},
   "outputs": [],
   "source": [
    "import re\n",
    "from collections import deque\n",
    "\n",
    "with open(\"in14.txt\", \"r\") as f:\n",
    "    wide = 101\n",
    "    tall = 103\n",
    "    pos = f.readlines()\n",
    "    pos = [re.findall(r'[+-]?\\d+', i) for i in pos]\n",
    "    pos = [[int(j) for j in i] for i in pos]\n",
    "    dirs = [(-1,0),(1,0),(0,1),(0,-1)]\n",
    "\n",
    "def search(t):\n",
    "    def test(nj, ni, j, i):\n",
    "        return map[nj][ni] > 0\n",
    "\n",
    "    def bfs(j, i, condition):\n",
    "        queue = deque([(j, i),])\n",
    "        count = 0\n",
    "        map_bool[j][i] = 1\n",
    "\n",
    "        while queue:\n",
    "            (j, i) = queue.popleft()\n",
    "            for dir in dirs:\n",
    "                nj = j + dir[0]\n",
    "                ni = i + dir[1]\n",
    "                if (0<=nj<tall) and (0<=ni<wide) and condition(nj, ni, j, i) and map_bool[nj][ni] == 0:\n",
    "                    count+=1\n",
    "                    queue.append((nj, ni))\n",
    "                    map_bool[nj][ni] = 1\n",
    "        return count\n",
    "    connected = 0\n",
    "    map = [[0 for _ in range(wide)] for _ in range(tall)]\n",
    "    map_bool = [[0 for _ in range(wide)] for _ in range(tall)]\n",
    "    for robot in pos:\n",
    "        j = (robot[1] + t*robot[3])%tall\n",
    "        i = (robot[0] + t*robot[2])%wide\n",
    "        map[j][i]+=1\n",
    "\n",
    "    for j in range(tall):\n",
    "        for i in range(wide):\n",
    "            if map[j][i] > 0 and map_bool[j][i]!=1:\n",
    "                res = bfs(j, i, test)\n",
    "                if res > connected:\n",
    "                    connected = res\n",
    "    return connected"
   ]
  },
  {
   "cell_type": "code",
   "execution_count": 13,
   "metadata": {},
   "outputs": [
    {
     "name": "stdout",
     "output_type": "stream",
     "text": [
      "4 5\n",
      "6 190\n",
      "8 33\n",
      "14 336\n",
      "228 7709\n"
     ]
    }
   ],
   "source": [
    "from concurrent.futures import ProcessPoolExecutor\n",
    "from concurrent.futures import as_completed\n",
    "\n",
    "max_res = 0\n",
    "with ProcessPoolExecutor() as executor:\n",
    "    results = {executor.submit(search, i): i for i in range(1,1_00_000)}\n",
    "\n",
    "    for r in as_completed(results):\n",
    "        if r.result() > max_res:\n",
    "            max_res = r.result()\n",
    "            print(r.result(), results[r])"
   ]
  }
 ],
 "metadata": {
  "kernelspec": {
   "display_name": "om",
   "language": "python",
   "name": "python3"
  },
  "language_info": {
   "codemirror_mode": {
    "name": "ipython",
    "version": 3
   },
   "file_extension": ".py",
   "mimetype": "text/x-python",
   "name": "python",
   "nbconvert_exporter": "python",
   "pygments_lexer": "ipython3",
   "version": "3.9.19"
  }
 },
 "nbformat": 4,
 "nbformat_minor": 2
}
