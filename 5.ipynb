{
 "cells": [
  {
   "cell_type": "code",
   "execution_count": 1,
   "metadata": {},
   "outputs": [
    {
     "name": "stdout",
     "output_type": "stream",
     "text": [
      "Part 1 4872\n",
      "Part 2 5564\n"
     ]
    }
   ],
   "source": [
    "import re\n",
    "\n",
    "with open(\"in5.txt\", \"r\") as f:\n",
    "    data = f.read()\n",
    "    raw = re.findall(r\"\\d+\\|\\d+\", data)\n",
    "    \n",
    "    rules = {int(i):[] for i in re.findall(r\"\\d+\", data)}\n",
    "\n",
    "    for i in raw:\n",
    "        i = [int(j) for j in i.split('|')]\n",
    "        rules[i[0]].append(i[1])\n",
    "        \n",
    "    keys = rules.keys()\n",
    "\n",
    "    data = data.split(\"\\n\")\n",
    "    for i in range(len(data)):\n",
    "        if data[i] == '':\n",
    "            break\n",
    "        \n",
    "    ordering = data[i+1:]\n",
    "\n",
    "    res1 = 0\n",
    "    res2 = 0\n",
    "    for order in ordering:\n",
    "        j = 0\n",
    "        order = [int(k) for k in order.split(',')]\n",
    "        flag = 0\n",
    "\n",
    "        while (j<len(order)-1):\n",
    "            if order[j+1] in rules[order[j]]:\n",
    "                j=j+1\n",
    "            elif order[j] in rules[order[j+1]]:\n",
    "                flag = 1\n",
    "                (order[j], order[j+1]) = (order[j+1], order[j])\n",
    "                j=0\n",
    "        \n",
    "        if flag == 1:\n",
    "            res2 += order[len(order)//2]\n",
    "        else:\n",
    "            res1 += order[len(order)//2]\n",
    "    print(\"Part 1\", res1)\n",
    "    print(\"Part 2\", res2)\n"
   ]
  }
 ],
 "metadata": {
  "kernelspec": {
   "display_name": "om",
   "language": "python",
   "name": "python3"
  },
  "language_info": {
   "codemirror_mode": {
    "name": "ipython",
    "version": 3
   },
   "file_extension": ".py",
   "mimetype": "text/x-python",
   "name": "python",
   "nbconvert_exporter": "python",
   "pygments_lexer": "ipython3",
   "version": "3.9.19"
  }
 },
 "nbformat": 4,
 "nbformat_minor": 2
}
