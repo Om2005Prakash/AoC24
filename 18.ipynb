{
 "cells": [
  {
   "cell_type": "code",
   "execution_count": 1,
   "metadata": {},
   "outputs": [
    {
     "name": "stdout",
     "output_type": "stream",
     "text": [
      "Part 1 298\n"
     ]
    }
   ],
   "source": [
    "from collections import deque\n",
    "\n",
    "with open(\"in18.txt\", \"r\") as f:\n",
    "    width = 71\n",
    "    height = 71\n",
    "    start = (0, 0)\n",
    "    end = (height-1, width-1)\n",
    "    currupt_copy = [(int(i.split(',')[1]), int(i.split(',')[0])) for ind,i in enumerate(f.readlines())]\n",
    "        \n",
    "def simulate(n):\n",
    "    currupt = currupt_copy[:n]\n",
    "    map = [[1 if (j,i) in currupt else 0 for i in range(width)] for j in range(height)]\n",
    "    map_bool = [[0 for i in range(width)] for j in range(height)]\n",
    "    dirs = [(-1,0), (0,1), (1,0), (0,-1)]\n",
    "    queue = deque([(0,0,0)])\n",
    "    map_bool[0][0] = 1\n",
    "\n",
    "    while queue:\n",
    "        (j, i, n) = queue.popleft()\n",
    "        if (j,i) == end:\n",
    "            return n\n",
    "\n",
    "        for dir in dirs:\n",
    "            nj = j + dir[0]\n",
    "            ni = i + dir[1]\n",
    "\n",
    "            if 0<=nj<height and 0<=ni<width and map[nj][ni] == 0 and map_bool[nj][ni] == 0:\n",
    "                map_bool[nj][ni] = 1\n",
    "                queue.append((nj, ni, n+1))\n",
    "    return -1\n",
    "\n",
    "print(\"Part 1\", simulate(1024))"
   ]
  },
  {
   "cell_type": "code",
   "execution_count": 2,
   "metadata": {},
   "outputs": [
    {
     "name": "stdout",
     "output_type": "stream",
     "text": [
      "0 3451 1725 300\n",
      "1726 3451 2588 608\n",
      "2589 3451 3020 -1\n",
      "2589 3020 2804 608\n",
      "2805 3020 2912 -1\n",
      "2805 2912 2858 608\n",
      "2859 2912 2885 608\n",
      "2886 2912 2899 -1\n",
      "2886 2899 2892 608\n",
      "2893 2899 2896 608\n",
      "2897 2899 2898 608\n",
      "Part 2 2899\n"
     ]
    }
   ],
   "source": [
    "def bin_ser(l, r):\n",
    "    if l == r:\n",
    "        return l\n",
    "    mid = (l + r)//2\n",
    "    res = simulate(mid)\n",
    "    print(l,r,mid,res)\n",
    "    if res != -1:\n",
    "        return bin_ser(mid+1,r)\n",
    "    else:\n",
    "        return bin_ser(l, mid)\n",
    "\n",
    "\n",
    "print(\"Part 2\", bin_ser(0,3451))"
   ]
  }
 ],
 "metadata": {
  "kernelspec": {
   "display_name": "om",
   "language": "python",
   "name": "python3"
  },
  "language_info": {
   "codemirror_mode": {
    "name": "ipython",
    "version": 3
   },
   "file_extension": ".py",
   "mimetype": "text/x-python",
   "name": "python",
   "nbconvert_exporter": "python",
   "pygments_lexer": "ipython3",
   "version": "3.9.19"
  }
 },
 "nbformat": 4,
 "nbformat_minor": 2
}
