{
 "cells": [
  {
   "cell_type": "code",
   "execution_count": null,
   "metadata": {},
   "outputs": [
    {
     "name": "stdout",
     "output_type": "stream",
     "text": [
      "6448989155953\n",
      "50175 50174\n"
     ]
    }
   ],
   "source": [
    "with open(\"in9.txt\", \"r\") as f:\n",
    "    data = f.read()\n",
    "    expanded = []\n",
    "    i=0\n",
    "    length = len(data)\n",
    "\n",
    "    while i<length:\n",
    "        if i%2==0:\n",
    "            expanded.extend([str(i//2),]*int(data[i]))\n",
    "        else:\n",
    "            expanded.extend(['.',]*int(data[i]))\n",
    "        i+=1\n",
    "    i=0\n",
    "    j=len(expanded)-1\n",
    "    res = 0\n",
    "    while i<=j:\n",
    "        if expanded[i] != '.':\n",
    "            res+=i*int(expanded[i])\n",
    "        else:\n",
    "            while i<j:\n",
    "                if expanded[j]!='.':\n",
    "                    res+=i*int(expanded[j])\n",
    "                    j-=1\n",
    "                    break\n",
    "                else:\n",
    "                    j-=1\n",
    "        i+=1\n",
    "    print(\"Part 1:\", res)"
   ]
  },
  {
   "cell_type": "code",
   "execution_count": null,
   "metadata": {},
   "outputs": [
    {
     "name": "stdout",
     "output_type": "stream",
     "text": [
      "Part 2: 6476642796832\n"
     ]
    }
   ],
   "source": [
    "with open(\"in9.txt\", \"r\") as f:\n",
    "    data = f.read()\n",
    "    expanded = []\n",
    "    i=0\n",
    "    length = len(data)\n",
    "\n",
    "    while i<length:\n",
    "        if i%2==0:\n",
    "            expanded.extend([str(i//2),]*int(data[i]))\n",
    "        else:\n",
    "            expanded.extend(['.',]*int(data[i]))\n",
    "        i+=1\n",
    "    \n",
    "    free = []\n",
    "    i=0\n",
    "    while i<len(expanded):\n",
    "        if expanded[i] == '.':\n",
    "            j=i\n",
    "            while expanded[j] == '.':\n",
    "                j+=1\n",
    "            free.append([i,j-i])\n",
    "            i=j\n",
    "        else:\n",
    "            i+=1\n",
    "\n",
    "    i = len(expanded)-1\n",
    "    while expanded[i] != '0':\n",
    "        if expanded[i] !='.':\n",
    "            size = int(data[::2][int(expanded[i])])\n",
    "            flag = 0\n",
    "            for j in range(len(free)):\n",
    "                if (free[j][1] >= size) and (free[j][0] < i):\n",
    "                    flag = 1\n",
    "                    break\n",
    "            if flag:\n",
    "                # print(expanded[i])\n",
    "                expanded[i-size+1:i+1], expanded[free[j][0]:free[j][0]+size] = expanded[free[j][0]:free[j][0]+size], expanded[i-size+1:i+1]\n",
    "                free[j][1] -= size\n",
    "                free[j][0] += size\n",
    "                # print(expanded)\n",
    "            i = i - size\n",
    "        else:\n",
    "            i = i - 1\n",
    "\n",
    "    i=0\n",
    "    res = 0\n",
    "    while i<len(expanded):\n",
    "        if expanded[i] != '.':\n",
    "            res+=i*int(expanded[i])\n",
    "        i+=1\n",
    "\n",
    "    print(\"Part 2:\",res)"
   ]
  }
 ],
 "metadata": {
  "kernelspec": {
   "display_name": "om",
   "language": "python",
   "name": "python3"
  },
  "language_info": {
   "codemirror_mode": {
    "name": "ipython",
    "version": 3
   },
   "file_extension": ".py",
   "mimetype": "text/x-python",
   "name": "python",
   "nbconvert_exporter": "python",
   "pygments_lexer": "ipython3",
   "version": "3.9.19"
  }
 },
 "nbformat": 4,
 "nbformat_minor": 2
}
