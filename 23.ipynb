{
 "cells": [
  {
   "cell_type": "code",
   "execution_count": 1,
   "metadata": {},
   "outputs": [],
   "source": [
    "import sys\n",
    "sys.setrecursionlimit(int(1e8))\n",
    "import re\n",
    "\n",
    "vertex = set()\n",
    "with open(\"in23.txt\" , \"r\") as f:\n",
    "    data = f.readlines()\n",
    "for d in data:\n",
    "    temp = re.findall(r'\\w+', d)\n",
    "    vertex.add(temp[0])\n",
    "    vertex.add(temp[1])\n",
    "adj = {i:set() for i in vertex}\n",
    "\n",
    "for d in data:\n",
    "    temp = re.findall(r'\\w+', d)\n",
    "    adj[temp[0]].add(temp[1])\n",
    "    adj[temp[1]].add(temp[0])\n",
    "\n",
    "vertex_list = list(vertex)\n",
    "poss = []\n",
    "def generator(i, already):\n",
    "    if i == len(vertex_list):\n",
    "        poss.append(already)\n",
    "        return\n",
    "    else:\n",
    "        flag = 0\n",
    "        for nodes in already:\n",
    "            if vertex_list[i] not in adj[nodes]:\n",
    "                flag = 1\n",
    "                break\n",
    "        if flag == 0:\n",
    "            generator(i+1, already.copy() + [vertex_list[i]])\n",
    "        generator(i+1, already.copy())\n",
    "    \n",
    "generator(0, [])"
   ]
  },
  {
   "cell_type": "code",
   "execution_count": 4,
   "metadata": {},
   "outputs": [
    {
     "name": "stdout",
     "output_type": "stream",
     "text": [
      "['yy', 'co', 'wa', 'mx', 'lo', 'hf', 'do', 'tn', 'rn', 'nb', 'wc', 'jn'] 12\n",
      "['yy', 'co', 'wa', 'mx', 'lo', 'hf', 'do', 'gs', 'rn', 'nb', 'wc', 'jn'] 12\n",
      "['ij', 'ch', 'so', 'fk', 'jw', 'gn', 'su', 'vv', 'ew', 'pt', 'tm', 'ux'] 12\n",
      "['ij', 'so', 'fk', 'jw', 'ud', 'gn', 'su', 'vv', 'ew', 'pt', 'tm', 'ux'] 12\n",
      "['io', 'lc', 'zk', 'vc', 'pi', 'zi', 'fq', 'xp', 'pj', 'te', 'jt', 'xd'] 12\n",
      "['io', 'lc', 'zk', 'vc', 'pi', 'zi', 'fq', 'xp', 'pj', 'jt', 'xd', 'zr'] 12\n",
      "['wq', 'gu', 'em', 'vk', 'wh', 'gx', 'xs', 'sy', 'sk', 'sm', 'rr', 're'] 12\n",
      "['wq', 'em', 'vk', 'wh', 'gx', 'xs', 'sy', 'sk', 'yp', 'sm', 'rr', 're'] 12\n",
      "['ry', 'ty', 'mw', 'sp', 'bp', 'us', 'dp', 'fx', 'xl', 'eo', 'rf', 'gj'] 12\n",
      "['ry', 'ty', 'sp', 'bp', 'us', 'dp', 'fx', 'xl', 'xi', 'eo', 'rf', 'gj'] 12\n",
      "['kv', 'yo', 'rp', 'ky', 'tg', 'bi', 'ks', 'ym', 'on', 'ne', 'yu', 'ia'] 12\n",
      "['kv', 'yo', 'rp', 'tg', 'bi', 'ks', 'ym', 'on', 'uf', 'ne', 'yu', 'ia'] 12\n",
      "['zy', 'cp', 'bt', 'as', 'yz', 'pa', 'hb', 'az', 'xy', 'kj', 'td', 'xm'] 12\n",
      "['zy', 'cp', 'bt', 'as', 'yz', 'hb', 'az', 'xy', 'kj', 'td', 'gp', 'xm'] 12\n",
      "['ea', 'os', 'qg', 'ue', 'ev', 'wg', 'yv', 'uv', 'po', 'cd', 'xu', 'iv'] 12\n",
      "['ea', 'os', 'qg', 'ue', 'ev', 'wg', 'uv', 'po', 'cd', 'ds', 'xu', 'iv'] 12\n",
      "['sb', 'si', 'mh', 'ln', 'wu', 'mi', 'vx', 'tj', 'nh', 'ex', 'ei', 'kt'] 12\n",
      "['sb', 'si', 'mh', 'ln', 'wu', 'mi', 'vx', 'tj', 'nh', 'ei', 'zb', 'kt'] 12\n",
      "['ov', 'af', 'dh', 'kg', 'nv', 'zj', 'df', 'qb', 'el', 'qs', 'lh', 'hj'] 12\n",
      "['mt', 'fe', 've', 'vr', 'ad', 'nf', 'nq', 'oj', 'be', 'xk', 'ig', 'yi'] 12\n",
      "['iq', 'nr', 'sh', 'ul', 'pe', 'dd', 'hx', 'ee', 'km', 'ej', 'lg', 'ow'] 12\n",
      "['iq', 'sh', 'ul', 'pe', 'dd', 'hx', 'ee', 'km', 'ej', 'fs', 'lg', 'ow'] 12\n",
      "['qt', 'xo', 'bk', 'oz', 'mg', 'xx', 'hr', 'ix', 'eu', 'dy', 'wb', 'od'] 12\n",
      "['qt', 'xo', 'bk', 'oz', 'mg', 'hr', 'ix', 'eu', 'dy', 'wb', 'wv', 'od'] 12\n",
      "['qv', 'pd', 'wf', 'jc', 'gy', 'yk', 'wj', 'jh', 'tb', 'hi', 'ng', 'jk'] 12\n",
      "['qv', 'pd', 'jc', 'gy', 'yk', 'wj', 'qk', 'jh', 'tb', 'hi', 'ng', 'jk'] 12\n",
      "['cr', 'sn', 'vh', 'sf', 'pl', 'qf', 'uu', 'qx', 'gc', 'at', 'bs', 'cx'] 12\n",
      "['cr', 'sn', 'vh', 'sf', 'qf', 'uu', 'qx', 'gc', 'at', 'bs', 'cx', 'ye'] 12\n",
      "['ko', 'rs', 'pq', 'zx', 'jj', 'ub', 'rz', 'uo', 'gb', 'nu', 'dq', 'cb'] 12\n",
      "['ko', 'rs', 'pq', 'jj', 'ub', 'rz', 'uo', 'er', 'gb', 'nu', 'dq', 'cb'] 12\n",
      "['mb', 'id', 'cj', 'xa', 'bv', 'iu', 'pr', 'xg', 'zv', 'lw', 'wm', 'ep'] 12\n",
      "['mb', 'id', 'cj', 'bv', 'yh', 'iu', 'pr', 'xg', 'zv', 'lw', 'wm', 'ep'] 12\n",
      "['fe', 've', 'zp', 'vr', 'ad', 'nf', 'nq', 'oj', 'be', 'xk', 'ig', 'yi'] 12\n",
      "['lx', 'ok', 'ao', 'qi', 'hn', 'ku', 'vt', 'sx', 'ut', 'zg', 'vb', 'my'] 12\n",
      "['lx', 'ao', 'qi', 'hn', 'mu', 'ku', 'vt', 'sx', 'ut', 'zg', 'vb', 'my'] 12\n",
      "['za', 'ya', 'fb', 'gt', 'tc', 'bn', 'ht', 'ua', 'lk', 'ou', 'pn', 'ps'] 12\n",
      "['za', 'ya', 'fb', 'gt', 'tc', 'bn', 'ht', 'ua', 'lk', 'ou', 'cl', 'ps'] 12\n",
      "['vq', 'ju', 'qm', 'gk', 'qj', 'og', 'ru', 'qr', 'uq', 'wx', 'ti', 'la'] 12\n",
      "['vq', 'ju', 'de', 'gk', 'qj', 'og', 'ru', 'qr', 'uq', 'wx', 'ti', 'la'] 12\n",
      "['qh', 'uk', 'lr', 'dc', 'ts', 'ce', 'iz', 'jf', 'om', 'ak', 'oa', 'zo'] 12\n",
      "['qh', 'uk', 'lr', 'dc', 'ts', 'ce', 'iz', 'jf', 'ak', 'oa', 'du', 'zo'] 12\n",
      "['qd', 'pp', 'ez', 'aa', 'un', 'xn', 'bz', 'uj', 'ar', 'qe', 'ui', 'ha'] 12\n",
      "['qd', 'pp', 'ez', 'aa', 'un', 'xn', 'bz', 'uj', 'ar', 'qe', 'ui', 'br'] 12\n",
      "['qq', 'tk', 'gv', 'hl', 'zq', 'tw', 'wk', 'bl', 'zt', 'rw', 'fy', 'ls'] 12\n",
      "['qq', 'tk', 'gv', 'hl', 'zq', 'tw', 'wk', 'bl', 'zt', 'tp', 'fy', 'ls'] 12\n",
      "['ja', 'rc', 'kq', 'vj', 'ip', 'pz', 'oo', 'cn', 'yf', 'ck', 'ai', 'fi'] 12\n",
      "['ja', 'rc', 'kq', 'rx', 'ip', 'pz', 'oo', 'cn', 'yf', 'ck', 'ai', 'fi'] 12\n",
      "['oe', 'bm', 'lz', 'ff', 'va', 'na', 'lq', 'bf', 'ab', 'cy', 'ze', 'cs'] 12\n",
      "['ka', 'gr', 'vs', 'oi', 'rh', 'mf', 'tu', 'uw', 'nl', 'fc', 'kp', 'wy'] 12\n",
      "['ka', 'vs', 'ci', 'oi', 'rh', 'mf', 'tu', 'uw', 'nl', 'fc', 'kp', 'wy'] 12\n",
      "['dv', 'mo', 'rl', 'zs', 'kf', 'tq', 'hd', 'mp', 'xz', 'we', 'lv', 'il'] 12\n",
      "['dv', 'mo', 'rl', 'zs', 'kf', 'tq', 'hd', 'xz', 'we', 'zm', 'lv', 'il'] 12\n",
      "['bc', 'uh', 'me', 'fn', 'ol', 'mr', 'vd', 'xr', 'tv', 'in', 'fw', 'js'] 12\n",
      "['bc', 'uh', 'me', 'fn', 'mr', 'vd', 'xr', 'tv', 'dl', 'in', 'fw', 'js'] 12\n",
      "['qw', 'kh', 'dw', 'av', 'ot', 'ki', 'vz', 'ax', 'ge', 'di', 'fa', 'dg', 'yw'] 13\n"
     ]
    }
   ],
   "source": [
    "max = 0\n",
    "for i in poss:\n",
    "    if len(i) >= max:\n",
    "        max = len(i)\n",
    "        print(i, len(i))"
   ]
  },
  {
   "cell_type": "code",
   "execution_count": null,
   "metadata": {},
   "outputs": [],
   "source": [
    "['qw', 'vz', 'yw']\n",
    "'''\n",
    "av ax dg di dw fa ge kh ki ot qw vz yw\n",
    "av,ax,dg,di,dw,fa,ge,kh,ki,ot,qw,vz,yw\n",
    "'''"
   ]
  }
 ],
 "metadata": {
  "kernelspec": {
   "display_name": "om",
   "language": "python",
   "name": "python3"
  },
  "language_info": {
   "codemirror_mode": {
    "name": "ipython",
    "version": 3
   },
   "file_extension": ".py",
   "mimetype": "text/x-python",
   "name": "python",
   "nbconvert_exporter": "python",
   "pygments_lexer": "ipython3",
   "version": "3.9.19"
  }
 },
 "nbformat": 4,
 "nbformat_minor": 2
}
